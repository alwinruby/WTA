{
 "cells": [
  {
   "cell_type": "code",
   "execution_count": 1,
   "metadata": {},
   "outputs": [],
   "source": [
    "import pandas as pd\n",
    "players = pd.read_csv(\"data/players.csv\", encoding='latin1', index_col=0)"
   ]
  },
  {
   "cell_type": "code",
   "execution_count": 2,
   "metadata": {},
   "outputs": [
    {
     "data": {
      "text/html": [
       "<div>\n",
       "<style scoped>\n",
       "    .dataframe tbody tr th:only-of-type {\n",
       "        vertical-align: middle;\n",
       "    }\n",
       "\n",
       "    .dataframe tbody tr th {\n",
       "        vertical-align: top;\n",
       "    }\n",
       "\n",
       "    .dataframe thead th {\n",
       "        text-align: right;\n",
       "    }\n",
       "</style>\n",
       "<table border=\"1\" class=\"dataframe\">\n",
       "  <thead>\n",
       "    <tr style=\"text-align: right;\">\n",
       "      <th></th>\n",
       "      <th>first_name</th>\n",
       "      <th>last_name</th>\n",
       "      <th>hand</th>\n",
       "      <th>birth_date</th>\n",
       "      <th>country_code</th>\n",
       "    </tr>\n",
       "    <tr>\n",
       "      <th>player_id</th>\n",
       "      <th></th>\n",
       "      <th></th>\n",
       "      <th></th>\n",
       "      <th></th>\n",
       "      <th></th>\n",
       "    </tr>\n",
       "  </thead>\n",
       "  <tbody>\n",
       "    <tr>\n",
       "      <th>200001</th>\n",
       "      <td>Martina</td>\n",
       "      <td>Hingis</td>\n",
       "      <td>R</td>\n",
       "      <td>19800930.0</td>\n",
       "      <td>SUI</td>\n",
       "    </tr>\n",
       "    <tr>\n",
       "      <th>200002</th>\n",
       "      <td>Mirjana</td>\n",
       "      <td>Lucic</td>\n",
       "      <td>R</td>\n",
       "      <td>19820309.0</td>\n",
       "      <td>CRO</td>\n",
       "    </tr>\n",
       "    <tr>\n",
       "      <th>200003</th>\n",
       "      <td>Justine</td>\n",
       "      <td>Henin</td>\n",
       "      <td>R</td>\n",
       "      <td>19820601.0</td>\n",
       "      <td>BEL</td>\n",
       "    </tr>\n",
       "    <tr>\n",
       "      <th>200004</th>\n",
       "      <td>Kerry Anne</td>\n",
       "      <td>Guse</td>\n",
       "      <td>R</td>\n",
       "      <td>19721204.0</td>\n",
       "      <td>AUS</td>\n",
       "    </tr>\n",
       "    <tr>\n",
       "      <th>200005</th>\n",
       "      <td>Jolene</td>\n",
       "      <td>Watanabe Giltz</td>\n",
       "      <td>R</td>\n",
       "      <td>19680831.0</td>\n",
       "      <td>USA</td>\n",
       "    </tr>\n",
       "  </tbody>\n",
       "</table>\n",
       "</div>"
      ],
      "text/plain": [
       "           first_name       last_name hand  birth_date country_code\n",
       "player_id                                                          \n",
       "200001        Martina          Hingis    R  19800930.0          SUI\n",
       "200002        Mirjana           Lucic    R  19820309.0          CRO\n",
       "200003        Justine           Henin    R  19820601.0          BEL\n",
       "200004     Kerry Anne            Guse    R  19721204.0          AUS\n",
       "200005         Jolene  Watanabe Giltz    R  19680831.0          USA"
      ]
     },
     "execution_count": 2,
     "metadata": {},
     "output_type": "execute_result"
    }
   ],
   "source": [
    "players.head()"
   ]
  },
  {
   "cell_type": "code",
   "execution_count": null,
   "metadata": {},
   "outputs": [],
   "source": []
  }
 ],
 "metadata": {
  "kernelspec": {
   "display_name": "Python 3",
   "language": "python",
   "name": "python3"
  },
  "language_info": {
   "codemirror_mode": {
    "name": "ipython",
    "version": 3
   },
   "file_extension": ".py",
   "mimetype": "text/x-python",
   "name": "python",
   "nbconvert_exporter": "python",
   "pygments_lexer": "ipython3",
   "version": "3.8.3"
  }
 },
 "nbformat": 4,
 "nbformat_minor": 4
}
