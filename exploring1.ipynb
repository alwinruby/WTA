{
 "cells": [
  {
   "cell_type": "code",
   "execution_count": 1,
   "metadata": {},
   "outputs": [],
   "source": [
    "import pandas as pd\n",
    "players = pd.read_csv(\"data/players.csv\", encoding='latin1', index_col=0)"
   ]
  },
  {
   "cell_type": "code",
   "execution_count": 2,
   "metadata": {},
   "outputs": [
    {
     "data": {
      "text/html": [
       "<div>\n",
       "<style scoped>\n",
       "    .dataframe tbody tr th:only-of-type {\n",
       "        vertical-align: middle;\n",
       "    }\n",
       "\n",
       "    .dataframe tbody tr th {\n",
       "        vertical-align: top;\n",
       "    }\n",
       "\n",
       "    .dataframe thead th {\n",
       "        text-align: right;\n",
       "    }\n",
       "</style>\n",
       "<table border=\"1\" class=\"dataframe\">\n",
       "  <thead>\n",
       "    <tr style=\"text-align: right;\">\n",
       "      <th></th>\n",
       "      <th>first_name</th>\n",
       "      <th>last_name</th>\n",
       "      <th>hand</th>\n",
       "      <th>birth_date</th>\n",
       "      <th>country_code</th>\n",
       "    </tr>\n",
       "    <tr>\n",
       "      <th>player_id</th>\n",
       "      <th></th>\n",
       "      <th></th>\n",
       "      <th></th>\n",
       "      <th></th>\n",
       "      <th></th>\n",
       "    </tr>\n",
       "  </thead>\n",
       "  <tbody>\n",
       "    <tr>\n",
       "      <th>200001</th>\n",
       "      <td>Martina</td>\n",
       "      <td>Hingis</td>\n",
       "      <td>R</td>\n",
       "      <td>19800930.0</td>\n",
       "      <td>SUI</td>\n",
       "    </tr>\n",
       "    <tr>\n",
       "      <th>200002</th>\n",
       "      <td>Mirjana</td>\n",
       "      <td>Lucic</td>\n",
       "      <td>R</td>\n",
       "      <td>19820309.0</td>\n",
       "      <td>CRO</td>\n",
       "    </tr>\n",
       "    <tr>\n",
       "      <th>200003</th>\n",
       "      <td>Justine</td>\n",
       "      <td>Henin</td>\n",
       "      <td>R</td>\n",
       "      <td>19820601.0</td>\n",
       "      <td>BEL</td>\n",
       "    </tr>\n",
       "    <tr>\n",
       "      <th>200004</th>\n",
       "      <td>Kerry Anne</td>\n",
       "      <td>Guse</td>\n",
       "      <td>R</td>\n",
       "      <td>19721204.0</td>\n",
       "      <td>AUS</td>\n",
       "    </tr>\n",
       "    <tr>\n",
       "      <th>200005</th>\n",
       "      <td>Jolene</td>\n",
       "      <td>Watanabe Giltz</td>\n",
       "      <td>R</td>\n",
       "      <td>19680831.0</td>\n",
       "      <td>USA</td>\n",
       "    </tr>\n",
       "  </tbody>\n",
       "</table>\n",
       "</div>"
      ],
      "text/plain": [
       "           first_name       last_name hand  birth_date country_code\n",
       "player_id                                                          \n",
       "200001        Martina          Hingis    R  19800930.0          SUI\n",
       "200002        Mirjana           Lucic    R  19820309.0          CRO\n",
       "200003        Justine           Henin    R  19820601.0          BEL\n",
       "200004     Kerry Anne            Guse    R  19721204.0          AUS\n",
       "200005         Jolene  Watanabe Giltz    R  19680831.0          USA"
      ]
     },
     "execution_count": 2,
     "metadata": {},
     "output_type": "execute_result"
    }
   ],
   "source": [
    "players.head()"
   ]
  },
  {
   "cell_type": "code",
   "execution_count": 3,
   "metadata": {},
   "outputs": [],
   "source": [
    "# Top column is misaligned.\n",
    "players.index.name = 'ID'\n",
    "players.columns = ['First' , 'Last', 'Handidness', 'DOB', 'Country']\n",
    "\n",
    "# Parse date data to dates.\n",
    "players = players.assign(DOB=pd.to_datetime(players['DOB'], format='%Y%m%d'))\n",
    "\n",
    "# Handidness is reported as U if unknown; set np.nan instead.\n",
    "import numpy as np\n",
    "players = players.assign(Handidness=players['Handidness'].replace('U', np.nan))"
   ]
  },
  {
   "cell_type": "code",
   "execution_count": 4,
   "metadata": {},
   "outputs": [
    {
     "data": {
      "text/html": [
       "<div>\n",
       "<style scoped>\n",
       "    .dataframe tbody tr th:only-of-type {\n",
       "        vertical-align: middle;\n",
       "    }\n",
       "\n",
       "    .dataframe tbody tr th {\n",
       "        vertical-align: top;\n",
       "    }\n",
       "\n",
       "    .dataframe thead th {\n",
       "        text-align: right;\n",
       "    }\n",
       "</style>\n",
       "<table border=\"1\" class=\"dataframe\">\n",
       "  <thead>\n",
       "    <tr style=\"text-align: right;\">\n",
       "      <th></th>\n",
       "      <th>First</th>\n",
       "      <th>Last</th>\n",
       "      <th>Handidness</th>\n",
       "      <th>DOB</th>\n",
       "      <th>Country</th>\n",
       "    </tr>\n",
       "    <tr>\n",
       "      <th>ID</th>\n",
       "      <th></th>\n",
       "      <th></th>\n",
       "      <th></th>\n",
       "      <th></th>\n",
       "      <th></th>\n",
       "    </tr>\n",
       "  </thead>\n",
       "  <tbody>\n",
       "    <tr>\n",
       "      <th>200001</th>\n",
       "      <td>Martina</td>\n",
       "      <td>Hingis</td>\n",
       "      <td>R</td>\n",
       "      <td>1980-09-30</td>\n",
       "      <td>SUI</td>\n",
       "    </tr>\n",
       "    <tr>\n",
       "      <th>200002</th>\n",
       "      <td>Mirjana</td>\n",
       "      <td>Lucic</td>\n",
       "      <td>R</td>\n",
       "      <td>1982-03-09</td>\n",
       "      <td>CRO</td>\n",
       "    </tr>\n",
       "    <tr>\n",
       "      <th>200003</th>\n",
       "      <td>Justine</td>\n",
       "      <td>Henin</td>\n",
       "      <td>R</td>\n",
       "      <td>1982-06-01</td>\n",
       "      <td>BEL</td>\n",
       "    </tr>\n",
       "    <tr>\n",
       "      <th>200004</th>\n",
       "      <td>Kerry Anne</td>\n",
       "      <td>Guse</td>\n",
       "      <td>R</td>\n",
       "      <td>1972-12-04</td>\n",
       "      <td>AUS</td>\n",
       "    </tr>\n",
       "    <tr>\n",
       "      <th>200005</th>\n",
       "      <td>Jolene</td>\n",
       "      <td>Watanabe Giltz</td>\n",
       "      <td>R</td>\n",
       "      <td>1968-08-31</td>\n",
       "      <td>USA</td>\n",
       "    </tr>\n",
       "  </tbody>\n",
       "</table>\n",
       "</div>"
      ],
      "text/plain": [
       "             First            Last Handidness        DOB Country\n",
       "ID                                                              \n",
       "200001     Martina          Hingis          R 1980-09-30     SUI\n",
       "200002     Mirjana           Lucic          R 1982-03-09     CRO\n",
       "200003     Justine           Henin          R 1982-06-01     BEL\n",
       "200004  Kerry Anne            Guse          R 1972-12-04     AUS\n",
       "200005      Jolene  Watanabe Giltz          R 1968-08-31     USA"
      ]
     },
     "execution_count": 4,
     "metadata": {},
     "output_type": "execute_result"
    }
   ],
   "source": [
    "players.head()"
   ]
  },
  {
   "cell_type": "code",
   "execution_count": 5,
   "metadata": {},
   "outputs": [
    {
     "data": {
      "text/plain": [
       "<matplotlib.axes._subplots.AxesSubplot at 0x7f9f404f44f0>"
      ]
     },
     "execution_count": 5,
     "metadata": {},
     "output_type": "execute_result"
    },
    {
     "data": {
      "image/png": "[encoded data removed]",
      "text/plain": [
       "<Figure size 864x432 with 1 Axes>"
      ]
     },
     "metadata": {},
     "output_type": "display_data"
    }
   ],
   "source": [
    "# There's a well-known supposition in tennis that left-handed = better. \n",
    "# What does the historical data say?\n",
    "import matplotlib.pyplot as plt\n",
    "plt.style.use('fivethirtyeight')\n",
    "players.Handidness.value_counts(dropna=False).plot.bar(figsize=(12, 6),\n",
    "                                title='WTA Player Handidness')"
   ]
  },
  {
   "cell_type": "code",
   "execution_count": 7,
   "metadata": {},
   "outputs": [
    {
     "data": {
      "text/plain": [
       "<matplotlib.axes._subplots.AxesSubplot at 0x7f9f4066ad60>"
      ]
     },
     "execution_count": 7,
     "metadata": {},
     "output_type": "execute_result"
    },
    {
     "data": {
      "image/png": "[encoded data removed]",
      "text/plain": [
       "<Figure size 864x288 with 1 Axes>"
      ]
     },
     "metadata": {},
     "output_type": "display_data"
    }
   ],
   "source": [
    "# Unfortunately too many records are left unknown to confirm much!\n",
    "# Next let's look at the trend of WTA player birth years.\n",
    "players.set_index('DOB').resample('Y').count().Country.plot.line(\n",
    "    linewidth=1, \n",
    "    figsize=(12, 4),\n",
    "    title='WTA Player Year of Birth')"
   ]
  },
  {
   "cell_type": "code",
   "execution_count": null,
   "metadata": {},
   "outputs": [],
   "source": []
  }
 ],
 "metadata": {
  "kernelspec": {
   "display_name": "Python 3",
   "language": "python",
   "name": "python3"
  },
  "language_info": {
   "codemirror_mode": {
    "name": "ipython",
    "version": 3
   },
   "file_extension": ".py",
   "mimetype": "text/x-python",
   "name": "python",
   "nbconvert_exporter": "python",
   "pygments_lexer": "ipython3",
   "version": "3.8.3"
  }
 },
 "nbformat": 4,
 "nbformat_minor": 4
}
